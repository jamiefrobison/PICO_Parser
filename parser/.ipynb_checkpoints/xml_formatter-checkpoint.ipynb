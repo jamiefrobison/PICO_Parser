{
 "cells": [
  {
   "cell_type": "code",
   "execution_count": 3,
   "metadata": {},
   "outputs": [
    {
     "ename": "SyntaxError",
     "evalue": "invalid syntax (<ipython-input-3-322fe0b4ff8c>, line 4)",
     "output_type": "error",
     "traceback": [
      "\u001b[0;36m  File \u001b[0;32m\"<ipython-input-3-322fe0b4ff8c>\"\u001b[0;36m, line \u001b[0;32m4\u001b[0m\n\u001b[0;31m    import .txtconll as t2c\u001b[0m\n\u001b[0m           ^\u001b[0m\n\u001b[0;31mSyntaxError\u001b[0m\u001b[0;31m:\u001b[0m invalid syntax\n"
     ]
    }
   ],
   "source": [
    "import codecs,os, sys\n",
    "\n",
    "import nltk\n",
    "import txtconll as t2c"
   ]
  },
  {
   "cell_type": "code",
   "execution_count": 2,
   "metadata": {},
   "outputs": [],
   "source": [
    "def generate_XML(NERxml_dir,crfresult_dir=\"temp.conll\"):\n",
    "    crfresult_input = codecs.open(crfresult_dir,'r')\n",
    "    NERxml_output=codecs.open(NERxml_dir,'w')\n",
    "    sents,entity=t2c.conll2txt(crfresult_input)\n",
    "    entity_lists=['Participant','Intervention','Outcome']\n",
    "    attribute_lists=['modifier','measure']\n",
    "    #print >>NERxml_output,\"<?xml version=\\\"1.0\\\"?>\"\n",
    "    #print >>NERxml_output,\"<root>\"\n",
    "    NERxml_output.write(\"<?xml version=\\\"1.0\\\"?>\\n\")\n",
    "    NERxml_output.write(\"<root>\\n\")\n",
    "    j=0\n",
    "\n",
    "    for sent in sents:\n",
    "        if sent == \"\":\n",
    "            continue\n",
    "        clean_sent=t2c.clean_txt(sent)\n",
    "\n",
    "        #print sent\n",
    "        #print \"===\",entity[j]\n",
    "        pattern='class=\\'(\\w+)\\''\n",
    "        entities=entity[j].split('\\n\\t\\t')\n",
    "        new_entities=[]\n",
    "        for e in entities:\n",
    "            if e =='':\n",
    "                new_entities.append('\\n')\n",
    "                continue\n",
    "            match=re.search(pattern,e)\n",
    "            if match.group(1) in attribute_lists:\n",
    "\n",
    "                p1='\\<entity'\n",
    "                p2='entity\\>'\n",
    "                new=re.sub(p1,'<attribute',e)\n",
    "                new=re.sub(p2,'attribute>',new)\n",
    "                new_entities.append(new)\n",
    "            else:\n",
    "\n",
    "                new_entities.append(e)\n",
    "        entity[j]=\"\\n\\t\\t\".join(new_entities)\n",
    "\n",
    "\n",
    "        #clean_sent=re.sub(\"\\'\",\" POSSESS \",clean_sent)\n",
    "        #print >>NERxml_output,\"\\t\"+\"<sent>\\n\"+\"\\t\\t<text>\"+clean_sent+\"</text>\"\n",
    "        #print  >>NERxml_output,\"\\t\\t\"+entity[j]\n",
    "        #print >>NERxml_output,\"\\t\"+\"</sent>\"\n",
    "        NERxml_output.write(\"\\t\"+\"<sent>\\n\"+\"\\t\\t<text>\"+clean_sent+\"</text>\\n\")\n",
    "        NERxml_output.write(\"\\t\\t\"+entity[j]+\"\\n\")\n",
    "        NERxml_output.write(\"\\t\"+\"</sent>\\n\")\n",
    "        j+=1\n",
    "    #print >>NERxml_output,\"</root>\"\n",
    "    NERxml_output.write(\"</root>\\n\")"
   ]
  },
  {
   "cell_type": "code",
   "execution_count": null,
   "metadata": {},
   "outputs": [],
   "source": []
  }
 ],
 "metadata": {
  "kernelspec": {
   "display_name": "Python 3",
   "language": "python",
   "name": "python3"
  },
  "language_info": {
   "codemirror_mode": {
    "name": "ipython",
    "version": 3
   },
   "file_extension": ".py",
   "mimetype": "text/x-python",
   "name": "python",
   "nbconvert_exporter": "python",
   "pygments_lexer": "ipython3",
   "version": "3.6.5"
  }
 },
 "nbformat": 4,
 "nbformat_minor": 2
}
